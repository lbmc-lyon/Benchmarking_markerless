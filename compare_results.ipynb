{
 "cells": [
  {
   "cell_type": "markdown",
   "metadata": {},
   "source": [
    "This code enables the loading of all markerless and marker-based data and their comparison through:\n",
    "- plotting joint coordinates\n",
    "- computing classical descriptive statistics"
   ]
  },
  {
   "cell_type": "code",
   "execution_count": null,
   "metadata": {},
   "outputs": [],
   "source": [
    "import matplotlib.pyplot as plt\n",
    "import pandas as pd\n",
    "from pathlib import Path\n",
    "import numpy as np"
   ]
  },
  {
   "cell_type": "code",
   "execution_count": null,
   "metadata": {},
   "outputs": [],
   "source": [
    "path_markers_data = Path('Data', 'Markers')\n",
    "path_markerless_data = Path('Data', 'Markerless')"
   ]
  },
  {
   "cell_type": "code",
   "execution_count": null,
   "metadata": {},
   "outputs": [],
   "source": [
    "## Define the participants, tasks, joints, and markerless methods you want to load and analyze\n",
    "participants = [\"participant_01\", \"participant_02\"]\n",
    "tasks = [\"gait\", \"sit-stand\", \"mmh\", \"exotic\", \"dance\"]\n",
    "joints = ['RHip_FE', 'RHip_AA', 'RKnee_FE', 'RAnkle_FE', 'L5S1_FE', 'RShoulder_AA', 'RShoulder_RIE', 'RElbow_FE', 'RElbow_PS', 'RWrist_FE']\n",
    "markerless_methods = [d.name for d in path_markerless_data.iterdir() if d.is_dir() and d.name != \"Template\"]"
   ]
  },
  {
   "cell_type": "markdown",
   "metadata": {},
   "source": [
    "### Data recovery"
   ]
  },
  {
   "cell_type": "code",
   "execution_count": null,
   "metadata": {},
   "outputs": [],
   "source": [
    "markers_data = dict()\n",
    "markerless_data = dict()\n",
    "for participant in participants:\n",
    "    markers_data[participant] = dict()\n",
    "    markerless_data[participant] = dict()\n",
    "    for task in tasks:\n",
    "        name_csv_markers = Path(path_markers_data) / f\"{task}_{participant}.csv\"\n",
    "        markers_data[participant][task] = pd.read_csv(name_csv_markers)\n",
    "        markerless_data[participant][task] = dict()\n",
    "        for markerless_method in markerless_methods:\n",
    "            name_csv_markerless = Path(path_markerless_data) / markerless_method / f\"{task}_{participant}.csv\"\n",
    "            if name_csv_markerless.exists():\n",
    "                markerless_data[participant][task][markerless_method] = pd.read_csv(name_csv_markerless)\n",
    "            else:\n",
    "                markerless_data[participant][task][markerless_method] = None"
   ]
  },
  {
   "cell_type": "markdown",
   "metadata": {},
   "source": [
    "### Plotting joint coordinates"
   ]
  },
  {
   "cell_type": "code",
   "execution_count": null,
   "metadata": {},
   "outputs": [],
   "source": [
    "plt.set_cmap('gist_rainbow')\n",
    "cmap = plt.get_cmap()\n",
    "colors = [cmap(i) for i in np.linspace(0, 1, len(markerless_method))]\n",
    "\n",
    "def plot_graph(participant, task, joint, markers_data, markerless_data, markerless_methods, colors):\n",
    "    fig, ax = plt.subplots(figsize=(10, 6))\n",
    "    ax.set_title(f\"{participant} - {task} - {joint}\")\n",
    "    \n",
    "    # Markers\n",
    "    ax.plot(markers_data[participant][task]['Time'], markers_data[participant][task][joint]*180/np.pi, linewidth=3, color='black')\n",
    "    legend = ['Marqueurs']\n",
    "    \n",
    "    # Markerless\n",
    "    for index, method in enumerate(markerless_methods):\n",
    "        if isinstance(markerless_data[participant][task][method], pd.DataFrame):\n",
    "            ax.plot(markerless_data[participant][task][method]['Time'], markerless_data[participant][task][method][joint]*180/np.pi, color=colors[index])\n",
    "        else:\n",
    "            ax.plot(np.nan)\n",
    "        legend.append(method)\n",
    "    \n",
    "    ax.legend(legend)\n",
    "    ax.set_xlabel('Time (s)')\n",
    "    ax.set_ylabel('Joint coordinates (°)')\n",
    "    plt.tight_layout()\n",
    "\n",
    "for participant in participants:\n",
    "    for task in tasks:\n",
    "        for joint in joints:\n",
    "            plot_graph(participant, task, joint, markers_data, markerless_data, markerless_methods, colors)\n",
    "\n",
    "plt.show()"
   ]
  },
  {
   "cell_type": "markdown",
   "metadata": {},
   "source": [
    "### Descriptive statistics"
   ]
  },
  {
   "cell_type": "code",
   "execution_count": null,
   "metadata": {},
   "outputs": [],
   "source": [
    "def stats_descriptives(series1, series2):\n",
    "    series1 = np.asarray(series1)\n",
    "    series2 = np.asarray(series2)\n",
    "    \n",
    "    valid_mask = ~np.isnan(series1) & ~np.isnan(series2)\n",
    "    valid_series1 = series1[valid_mask]\n",
    "    valid_series2 = series2[valid_mask]\n",
    "    \n",
    "    # Bias\n",
    "    bias = np.mean(valid_series2 - valid_series1)\n",
    "\n",
    "    # 95% confidence interval\n",
    "    diff = valid_series2 - valid_series1\n",
    "    std_dev = np.std(diff)\n",
    "    n = len(valid_series1)\n",
    "    conf_interval = 1.96 * std_dev / np.sqrt(n) \n",
    "\n",
    "    # R²\n",
    "    sst = np.sum((valid_series2 - np.mean(valid_series2))**2)\n",
    "\n",
    "    if sst == 0:\n",
    "        r_squared = np.nan\n",
    "    else:\n",
    "        slope, intercept = np.polyfit(valid_series1, valid_series2, 1)\n",
    "        predictions = slope * valid_series1 + intercept\n",
    "        ssr = np.sum((valid_series2 - predictions)**2)\n",
    "        r_squared = 1 - (ssr / sst)\n",
    "\n",
    "    # RMSD\n",
    "    rmsd = np.sqrt(np.mean(diff**2))\n",
    "\n",
    "    return bias, conf_interval, r_squared, rmsd\n",
    "\n",
    "def normalize_data(data, N=100):\n",
    "    new_index = np.linspace(0, len(data) - 1, N)\n",
    "    interpolated_values = np.interp(new_index, np.arange(len(data)), data)\n",
    "    data_resampled = pd.Series(interpolated_values, index=range(N))\n",
    "    return data_resampled"
   ]
  },
  {
   "cell_type": "code",
   "execution_count": null,
   "metadata": {},
   "outputs": [],
   "source": [
    "stats_all = []\n",
    "for participant in participants:\n",
    "    for task in tasks:\n",
    "        for joint in joints:\n",
    "            # Markers\n",
    "            data_markers = markers_data[participant][task][joint]\n",
    "            data_markers_resampled = normalize_data(data_markers)\n",
    "            for index_method, method in enumerate(markerless_methods):\n",
    "                if isinstance(markerless_data[participant][task][method], pd.DataFrame) and markerless_data[participant][task][method][joint].notna().any():\n",
    "                    # Markerless\n",
    "                    data = markerless_data[participant][task][method][joint]\n",
    "                    data_resampled = normalize_data(data)\n",
    "                    # Statistics\n",
    "                    bias, conf_interval, r_squared, rmsd = stats_descriptives(data_markers_resampled, data_resampled)\n",
    "                else:\n",
    "                    bias = conf_interval = r_squared = rmsd = np.nan\n",
    "                stats_all.append([participant, task, joint, method, bias, conf_interval, r_squared, rmsd])\n",
    "data_stats_descriptives = pd.DataFrame(stats_all, columns=['participant', 'task', 'joint', 'method', 'bias', 'conf_interval', 'r_squared', 'rmsd'])\n",
    "data_stats_descriptives.to_csv('Data/stats_descriptives.csv', index=False)"
   ]
  }
 ],
 "metadata": {
  "kernelspec": {
   "display_name": "benchmarking_markerless",
   "language": "python",
   "name": "python3"
  },
  "language_info": {
   "codemirror_mode": {
    "name": "ipython",
    "version": 3
   },
   "file_extension": ".py",
   "mimetype": "text/x-python",
   "name": "python",
   "nbconvert_exporter": "python",
   "pygments_lexer": "ipython3",
   "version": "3.13.2"
  }
 },
 "nbformat": 4,
 "nbformat_minor": 2
}
